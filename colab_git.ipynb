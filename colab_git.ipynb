{
  "nbformat": 4,
  "nbformat_minor": 0,
  "metadata": {
    "colab": {
      "name": "colab-git.ipynb",
      "provenance": [],
      "authorship_tag": "ABX9TyOsaX0IW/8zxwI6cSeIylhe",
      "include_colab_link": true
    },
    "kernelspec": {
      "name": "python3",
      "display_name": "Python 3"
    },
    "language_info": {
      "name": "python"
    }
  },
  "cells": [
    {
      "cell_type": "markdown",
      "metadata": {
        "id": "view-in-github",
        "colab_type": "text"
      },
      "source": [
        "<a href=\"https://colab.research.google.com/github/youngseo0526/GoodCasting/blob/master/colab_git.ipynb\" target=\"_parent\"><img src=\"https://colab.research.google.com/assets/colab-badge.svg\" alt=\"Open In Colab\"/></a>"
      ]
    },
    {
      "cell_type": "markdown",
      "metadata": {
        "id": "xw5RVg7dRyJA"
      },
      "source": [
        "## colab과 git 연동하기\n",
        "1. 드라이브 마운트(Drive Mount) - 내 드라이브와 연동\n",
        "2. 드라이브 내 원하는 경로로 이동\n",
        "3. 원하는 경로로 이동 **(자기 드라이브 경로로 변경해 줘야함)**"
      ]
    },
    {
      "cell_type": "code",
      "metadata": {
        "id": "W_dysm96JHFs",
        "colab": {
          "base_uri": "https://localhost:8080/"
        },
        "outputId": "8462de4d-9d83-47f8-fd91-4297710b21b7"
      },
      "source": [
        "from google.colab import drive\n",
        "drive.mount('/content/drive')"
      ],
      "execution_count": 1,
      "outputs": [
        {
          "output_type": "stream",
          "name": "stdout",
          "text": [
            "Mounted at /content/drive\n"
          ]
        }
      ]
    },
    {
      "cell_type": "markdown",
      "metadata": {
        "id": "L0KVS0IpSm9e"
      },
      "source": [
        " **자신의 경로로 변경하기**"
      ]
    },
    {
      "cell_type": "code",
      "metadata": {
        "id": "ssnmr6BfJN1N",
        "colab": {
          "base_uri": "https://localhost:8080/"
        },
        "outputId": "170db353-6858-40b6-a6d1-5090b86b2ec2"
      },
      "source": [
        "cd /content/drive/MyDrive/Colab Notebooks/NLP_project"
      ],
      "execution_count": 2,
      "outputs": [
        {
          "output_type": "stream",
          "name": "stdout",
          "text": [
            "/content/drive/MyDrive/Colab Notebooks/NLP_project\n"
          ]
        }
      ]
    },
    {
      "cell_type": "code",
      "metadata": {
        "id": "Iz3mmBoUJPVD",
        "colab": {
          "base_uri": "https://localhost:8080/",
          "height": 35
        },
        "outputId": "8d2a51d9-b2ee-4662-dd4d-c52893087fb0"
      },
      "source": [
        "pwd"
      ],
      "execution_count": 3,
      "outputs": [
        {
          "output_type": "execute_result",
          "data": {
            "application/vnd.google.colaboratory.intrinsic+json": {
              "type": "string"
            },
            "text/plain": [
              "'/content/drive/MyDrive/Colab Notebooks/NLP_project'"
            ]
          },
          "metadata": {},
          "execution_count": 3
        }
      ]
    },
    {
      "cell_type": "code",
      "metadata": {
        "id": "cC1oxEFfJC8V",
        "colab": {
          "base_uri": "https://localhost:8080/"
        },
        "outputId": "0be22132-3a97-4450-9638-7ba0693a496a"
      },
      "source": [
        "!git clone https://github.com/youngseo0526/GoodCasting.git"
      ],
      "execution_count": 4,
      "outputs": [
        {
          "output_type": "stream",
          "name": "stdout",
          "text": [
            "Cloning into 'GoodCasting'...\n",
            "remote: Enumerating objects: 260, done.\u001b[K\n",
            "remote: Counting objects: 100% (260/260), done.\u001b[K\n",
            "remote: Compressing objects: 100% (232/232), done.\u001b[K\n",
            "remote: Total 260 (delta 40), reused 215 (delta 17), pack-reused 0\u001b[K\n",
            "Receiving objects: 100% (260/260), 41.25 MiB | 17.27 MiB/s, done.\n",
            "Resolving deltas: 100% (40/40), done.\n",
            "Checking out files: 100% (163/163), done.\n"
          ]
        }
      ]
    }
  ]
}