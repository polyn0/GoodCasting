{
  "nbformat": 4,
  "nbformat_minor": 0,
  "metadata": {
    "colab": {
      "name": "colab-git.ipynb",
      "provenance": [],
      "collapsed_sections": [],
      "mount_file_id": "13BPjbTIX5NFWFExSCL3-8lQ6t8Rv58pt",
      "authorship_tag": "ABX9TyMuPl87EtzONGuR+MF0605t",
      "include_colab_link": true
    },
    "kernelspec": {
      "name": "python3",
      "display_name": "Python 3"
    },
    "language_info": {
      "name": "python"
    }
  },
  "cells": [
    {
      "cell_type": "markdown",
      "metadata": {
        "id": "view-in-github",
        "colab_type": "text"
      },
      "source": [
        "<a href=\"https://colab.research.google.com/github/youngseo0526/GoodCasting/blob/master/colab_git.ipynb\" target=\"_parent\"><img src=\"https://colab.research.google.com/assets/colab-badge.svg\" alt=\"Open In Colab\"/></a>"
      ]
    },
    {
      "cell_type": "markdown",
      "metadata": {
        "id": "xw5RVg7dRyJA"
      },
      "source": [
        "## Open in Colab for GPU acceleration\n",
        "\n"
      ]
    },
    {
      "cell_type": "markdown",
      "metadata": {
        "id": "-ndCKkDglCaP"
      },
      "source": [
        "**Drive Mount**"
      ]
    },
    {
      "cell_type": "code",
      "metadata": {
        "id": "W_dysm96JHFs",
        "colab": {
          "base_uri": "https://localhost:8080/"
        },
        "outputId": "e3f09d80-c0e5-426e-80d7-d1a8beac3460"
      },
      "source": [
        "from google.colab import drive\n",
        "drive.mount('/content/drive')"
      ],
      "execution_count": 1,
      "outputs": [
        {
          "output_type": "stream",
          "name": "stdout",
          "text": [
            "Drive already mounted at /content/drive; to attempt to forcibly remount, call drive.mount(\"/content/drive\", force_remount=True).\n"
          ]
        }
      ]
    },
    {
      "cell_type": "markdown",
      "metadata": {
        "id": "HaPNkdIgmFzM"
      },
      "source": [
        "**Move path**"
      ]
    },
    {
      "cell_type": "code",
      "metadata": {
        "id": "ssnmr6BfJN1N",
        "colab": {
          "base_uri": "https://localhost:8080/"
        },
        "outputId": "090abb80-f91b-4d8e-af3b-886af55cdda9"
      },
      "source": [
        "#cd /content/drive/MyDrive/Colab Notebooks/NLP_project\n",
        "cd [yourpath]"
      ],
      "execution_count": 6,
      "outputs": [
        {
          "output_type": "stream",
          "name": "stdout",
          "text": [
            "/content/drive/MyDrive/Colab Notebooks/NLP_project\n"
          ]
        }
      ]
    },
    {
      "cell_type": "code",
      "metadata": {
        "id": "Iz3mmBoUJPVD",
        "colab": {
          "base_uri": "https://localhost:8080/",
          "height": 35
        },
        "outputId": "9cbfb4d1-db86-4b7a-80b6-e6bac083eb8c"
      },
      "source": [
        "pwd"
      ],
      "execution_count": 7,
      "outputs": [
        {
          "output_type": "execute_result",
          "data": {
            "application/vnd.google.colaboratory.intrinsic+json": {
              "type": "string"
            },
            "text/plain": [
              "'/content/drive/MyDrive/Colab Notebooks/NLP_project'"
            ]
          },
          "metadata": {},
          "execution_count": 7
        }
      ]
    },
    {
      "cell_type": "markdown",
      "metadata": {
        "id": "5kkDQT_JmI1l"
      },
      "source": [
        "**Clone GoodCasting repository**"
      ]
    },
    {
      "cell_type": "code",
      "metadata": {
        "id": "cC1oxEFfJC8V",
        "colab": {
          "base_uri": "https://localhost:8080/"
        },
        "outputId": "df0bb511-aa04-4143-b7ce-bf2966157fc7"
      },
      "source": [
        "!git clone https://github.com/youngseo0526/GoodCasting.git  # only once at first"
      ],
      "execution_count": 8,
      "outputs": [
        {
          "output_type": "stream",
          "name": "stdout",
          "text": [
            "Cloning into 'GoodCasting'...\n",
            "remote: Enumerating objects: 332, done.\u001b[K\n",
            "remote: Counting objects: 100% (332/332), done.\u001b[K\n",
            "remote: Compressing objects: 100% (293/293), done.\u001b[K\n",
            "remote: Total 332 (delta 86), reused 234 (delta 27), pack-reused 0\u001b[K\n",
            "Receiving objects: 100% (332/332), 42.65 MiB | 16.61 MiB/s, done.\n",
            "Resolving deltas: 100% (86/86), done.\n"
          ]
        }
      ]
    }
  ]
}